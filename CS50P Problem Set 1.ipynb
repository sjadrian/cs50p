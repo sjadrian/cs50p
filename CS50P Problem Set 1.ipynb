{
 "cells": [
  {
   "cell_type": "markdown",
   "id": "5efe797b",
   "metadata": {},
   "source": [
    "# CS50P Problem Set 1"
   ]
  },
  {
   "cell_type": "markdown",
   "id": "3436e6b6",
   "metadata": {},
   "source": [
    "### Deep Thought\n",
    "\n",
    "In deep.py, implement a program that prompts the user for the answer to the Great Question of Life, the Universe and Everything, outputting Yes if the user inputs 42 or (case-insensitively) forty-two or forty two. Otherwise output No."
   ]
  },
  {
   "cell_type": "code",
   "execution_count": 1,
   "id": "a866a720",
   "metadata": {},
   "outputs": [],
   "source": [
    "def deep_thought():\n",
    "    text = input(\"input: \")\n",
    "    text = text.lower().strip()\n",
    "    if text == \"42\" or text == \"forty-two\" or text == \"forty two\":\n",
    "        print(\"Yes\")\n",
    "    else:\n",
    "        print(\"No\")"
   ]
  },
  {
   "cell_type": "markdown",
   "id": "ec14f062",
   "metadata": {},
   "source": [
    "Run your program with python deep.py. Type 42 and press Enter. Your program should output: <br>\n",
    "Yes <br>\n",
    "Run your program with python deep.py. Type Forty Two and press Enter. Your program should output: <br>\n",
    "Yes <br>\n",
    "Run your program with python deep.py. Type forty-two and press Enter. Your program should output <br>\n",
    "Yes <br>\n",
    "Run your program with python deep.py. Type 50 and press Enter. Your program should output <br>\n",
    "No <br>"
   ]
  },
  {
   "cell_type": "code",
   "execution_count": 2,
   "id": "8f6a2521",
   "metadata": {
    "scrolled": true
   },
   "outputs": [
    {
     "name": "stdout",
     "output_type": "stream",
     "text": [
      "input: 42\n",
      "Yes\n",
      "input: Forty Two\n",
      "Yes\n",
      "input: forty-two\n",
      "Yes\n",
      "input: 50\n",
      "No\n"
     ]
    }
   ],
   "source": [
    "deep_thought()\n",
    "deep_thought()\n",
    "deep_thought()\n",
    "deep_thought()"
   ]
  },
  {
   "cell_type": "code",
   "execution_count": 3,
   "id": "b07f35c4",
   "metadata": {},
   "outputs": [
    {
     "name": "stdout",
     "output_type": "stream",
     "text": [
      "input: 20\n",
      "No\n"
     ]
    }
   ],
   "source": [
    "deep_thought()"
   ]
  },
  {
   "cell_type": "markdown",
   "id": "4c634712",
   "metadata": {},
   "source": [
    "### Home Federal Savings Bank\n",
    "\n",
    "In season 7, episode 24 of Seinfeld, Kramer visits a bank that promises to give USD100 to anyone who isn’t greeted with a “hello.” Kramer is instead greeted with a “hey,” which he insists isn’t a “hello,” and so he asks for USD100. The bank’s manager proposes a compromise: “You got a greeting that starts with an ‘h,’ how does USD20 sound?” Kramer accepts.\n",
    "\n",
    "In a file called bank.py, implement a program that prompts the user for a greeting. If the greeting starts with “hello”, output USD0. If the greeting starts with an “h” (but not “hello”), output USD20. Otherwise, output USD100. Ignore any leading whitespace in the user’s greeting, and treat the user’s greeting case-insensitively."
   ]
  },
  {
   "cell_type": "code",
   "execution_count": 4,
   "id": "4b87c456",
   "metadata": {},
   "outputs": [],
   "source": [
    "def savings_bank():\n",
    "    text = input(\"input: \")\n",
    "    text = text.lower().strip()\n",
    "    \n",
    "    substring = \"hello\"\n",
    "    if substring in text and text[0] == \"h\":\n",
    "        print(\"$0\")\n",
    "    elif text[0] == \"h\":\n",
    "        print(\"$20\")\n",
    "    else:\n",
    "        print(\"$100\")"
   ]
  },
  {
   "cell_type": "markdown",
   "id": "dc74a0a7",
   "metadata": {},
   "source": [
    "Run your program with python bank.py. Type Hello and press Enter. Your program should output <br>\n",
    "0  <br>\n",
    "Run your program with python bank.py. Type Hello, Newman and press Enter. Your program should output <br>\n",
    "0  <br>\n",
    "Run your program with python bank.py. Type How you doing? and press Enter. Your program should output <br>\n",
    "20 <br>\n",
    "Run your program with python bank.py. Type What's happening? and press Enter. Your program should output <br>\n",
    "100 <br>"
   ]
  },
  {
   "cell_type": "code",
   "execution_count": 5,
   "id": "6c99088e",
   "metadata": {},
   "outputs": [
    {
     "name": "stdout",
     "output_type": "stream",
     "text": [
      "input: Hello\n",
      "$0\n",
      "input: Hello, Newman\n",
      "$0\n",
      "input: How you doing?\n",
      "$20\n",
      "input: What's happening?\n",
      "$100\n"
     ]
    }
   ],
   "source": [
    "savings_bank()\n",
    "savings_bank()\n",
    "savings_bank()\n",
    "savings_bank()"
   ]
  },
  {
   "cell_type": "markdown",
   "id": "1a1e265f",
   "metadata": {},
   "source": [
    "### Making Faces\n",
    "\n",
    "Before there were emoji, there were emoticons, whereby text like :) was a happy face and text like :( was a sad face. Nowadays, programs tend to convert emoticons to emoji automatically!\n",
    "\n",
    "In a file called faces.py, implement a function called convert that accepts a str as input and returns that same input with any :) converted to 🙂 (otherwise known as a slightly smiling face) and any :( converted to 🙁 (otherwise known as a slightly frowning face). All other text should be returned unchanged.\n",
    "\n",
    "Then, in that same file, implement a function called main that prompts the user for input, calls convert on that input, and prints the result. You’re welcome, but not required, to prompt the user explicitly, as by passing a str of your own as an argument to input. Be sure to call main at the bottom of your file."
   ]
  },
  {
   "cell_type": "code",
   "execution_count": 6,
   "id": "06e680b5",
   "metadata": {},
   "outputs": [],
   "source": [
    "def making_faces():\n",
    "    text = input(\"input: \")\n",
    "    text = text.replace(\":)\",\"🙂\")\n",
    "    text = text.replace(\":(\",\"🙁\")\n",
    "    print(\"output: \", text)"
   ]
  },
  {
   "cell_type": "markdown",
   "id": "954e4f50",
   "metadata": {},
   "source": [
    "Run your program with python faces.py. Type Hello :) and press Enter. Your program should output:<br>\n",
    "Hello 🙂<br>\n",
    "Run your program with python faces.py. Type Goodbye :( and press Enter. Your program should output:<br>\n",
    "Goodbye 🙁<br>\n",
    "Run your program with python faces.py. Type Hello :) Goodbye :( and press Enter. Your program should output<br>\n",
    "Hello 🙂 Goodbye 🙁"
   ]
  },
  {
   "cell_type": "code",
   "execution_count": null,
   "id": "09e02f4f",
   "metadata": {
    "scrolled": true
   },
   "outputs": [],
   "source": [
    "making_faces()\n",
    "making_faces()\n",
    "making_faces()"
   ]
  },
  {
   "cell_type": "markdown",
   "id": "2b023b4e",
   "metadata": {},
   "source": [
    "### Einstein\n",
    "\n",
    "Even if you haven’t studied physics (recently or ever!), you might have heard that , wherein  represents energy (measured in Joules),  represents mass (measured in kilograms), and  represents the speed of light (measured approximately as 300000000 meters per second), per Albert Einstein et al. Essentially, the formula means that mass and energy are equivalent.\n",
    "\n",
    "In a file called einstein.py, implement a program in Python that prompts the user for mass as an integer (in kilograms) and then outputs the equivalent number of Joules as an integer. Assume that the user will input an integer."
   ]
  },
  {
   "cell_type": "code",
   "execution_count": null,
   "id": "23374dbf",
   "metadata": {},
   "outputs": [],
   "source": [
    "def einstein():\n",
    "    text = input(\"input mass (kg): \")\n",
    "    \n",
    "    #convert to int\n",
    "    text = int(text)\n",
    "    \n",
    "    #convert to energt\n",
    "    c = 300000000\n",
    "    text = text*c*c\n",
    "    \n",
    "    print(\"output (joules) : \", text)"
   ]
  },
  {
   "cell_type": "markdown",
   "id": "09812a60",
   "metadata": {},
   "source": [
    "Run your program with python einstein.py. Type 1 and press Enter. Your program should output:<br>\n",
    "90000000000000000<br>\n",
    "Run your program with python einstein.py. Type 14 and press Enter. Your program should output:<br>\n",
    "1260000000000000000<br>\n",
    "Run your program with python einstein.py. Type 50 and press Enter. Your program should output:<br>\n",
    "4500000000000000000"
   ]
  },
  {
   "cell_type": "code",
   "execution_count": null,
   "id": "8779050e",
   "metadata": {},
   "outputs": [],
   "source": [
    "einstein()\n",
    "einstein()\n",
    "einstein()"
   ]
  },
  {
   "cell_type": "markdown",
   "id": "db4f2a32",
   "metadata": {},
   "source": [
    "### Tip Calculator\n",
    "\n",
    "In the United States, it’s customary to leave a tip for your server after dining in a restaurant, typically an amount equal to 15% or more of your meal’s cost. Not to worry, though, we’ve written a tip calculator for you, below!\n"
   ]
  },
  {
   "cell_type": "code",
   "execution_count": null,
   "id": "2621bdb8",
   "metadata": {},
   "outputs": [],
   "source": [
    "def calculator():\n",
    "    dollars = dollars_to_float(input(\"How much was the meal? \"))\n",
    "    percent = percent_to_float(input(\"What percentage would you like to tip? \"))\n",
    "    tip = dollars * percent\n",
    "    print(f\"Leave ${tip:.2f}\")\n",
    "\n",
    "\n",
    "def dollars_to_float(d):\n",
    "    d = d.replace(\"$\",\"\")\n",
    "    return float(d)\n",
    "\n",
    "def percent_to_float(p):\n",
    "    p = p.replace(\"%\",\"\")\n",
    "    return float(p)/100"
   ]
  },
  {
   "cell_type": "markdown",
   "id": "1ad8fdbe",
   "metadata": {},
   "source": [
    "Run your program with python tip.py. Type 50.00 and press Enter. Then, type 15 and press Enter. Your program should output: <br>\n",
    "Leave 7.50 <br>\n",
    "Run your program with python tip.py. Type 100.00 and press Enter. Then, type 18 and press Enter. Your program should output:<br>\n",
    "Leave 18.00 <br>\n",
    "Run your program with python tip.py. Type  15.00 and press Enter. Then, type 25 and press Enter. Your program should output: <br>\n",
    "Leave 3.75"
   ]
  },
  {
   "cell_type": "code",
   "execution_count": null,
   "id": "f38c10fc",
   "metadata": {
    "scrolled": true
   },
   "outputs": [],
   "source": [
    "calculator()\n",
    "calculator()\n",
    "calculator()"
   ]
  },
  {
   "cell_type": "code",
   "execution_count": null,
   "id": "8c0743b1",
   "metadata": {},
   "outputs": [],
   "source": [
    "#end of PS0"
   ]
  }
 ],
 "metadata": {
  "kernelspec": {
   "display_name": "Python 3 (ipykernel)",
   "language": "python",
   "name": "python3"
  },
  "language_info": {
   "codemirror_mode": {
    "name": "ipython",
    "version": 3
   },
   "file_extension": ".py",
   "mimetype": "text/x-python",
   "name": "python",
   "nbconvert_exporter": "python",
   "pygments_lexer": "ipython3",
   "version": "3.9.12"
  }
 },
 "nbformat": 4,
 "nbformat_minor": 5
}

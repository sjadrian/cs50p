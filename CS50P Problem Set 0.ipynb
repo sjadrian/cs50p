{
 "cells": [
  {
   "cell_type": "markdown",
   "id": "6fac2b45",
   "metadata": {},
   "source": [
    "# CS50P Problem Set 0"
   ]
  },
  {
   "cell_type": "markdown",
   "id": "96e44304",
   "metadata": {},
   "source": [
    "### Indoor Voice\n",
    "\n",
    "In a file called indoor.py, implement a program in Python that prompts the user for input and then outputs that same input in lowercase. Punctuation and whitespace should be outputted unchanged. You’re welcome, but not required, to prompt the user explicitly, as by passing a str of your own as an argument to"
   ]
  },
  {
   "cell_type": "code",
   "execution_count": 8,
   "id": "a866a720",
   "metadata": {},
   "outputs": [],
   "source": [
    "def indoor_voice():\n",
    "    text = input(\"input: \")\n",
    "    text = text.lower()\n",
    "    print(\"output: \", text)"
   ]
  },
  {
   "cell_type": "markdown",
   "id": "f4c6eeae",
   "metadata": {},
   "source": [
    "Run your program with python indoor.py. Type HELLO and press Enter. Your program should output hello. <br>\n",
    "Run your program with python indoor.py. Type THIS IS CS50 and press Enter. Your program should output this is cs50. <br>\n",
    "Run your program with python indoor.py. Type 50 and press Enter. Your program should output 50."
   ]
  },
  {
   "cell_type": "code",
   "execution_count": 9,
   "id": "8f6a2521",
   "metadata": {
    "scrolled": true
   },
   "outputs": [
    {
     "name": "stdout",
     "output_type": "stream",
     "text": [
      "Please input a text: HELLO\n",
      "output:  hello\n",
      "Please input a text: THIS IS CS50\n",
      "output:  this is cs50\n",
      "Please input a text: 50\n",
      "output:  50\n"
     ]
    }
   ],
   "source": [
    "indoor_voice()\n",
    "indoor_voice()\n",
    "indoor_voice()"
   ]
  },
  {
   "cell_type": "markdown",
   "id": "f5f7fb3e",
   "metadata": {},
   "source": [
    "### Playback Speed\n",
    "\n",
    "Some people have a habit of lecturing speaking rather quickly, and it’d be nice to slow them down, a la YouTube’s 0.75 playback speed, or even by having them pause between words.\n",
    "\n",
    "In a file called playback.py, implement a program in Python that prompts the user for input and then outputs that same input, replacing each space with ... (i.e., three periods)."
   ]
  },
  {
   "cell_type": "code",
   "execution_count": 19,
   "id": "4b87c456",
   "metadata": {},
   "outputs": [],
   "source": [
    "def playback_speed():\n",
    "    text = input(\"input: \")\n",
    "#     text = \"abc abc\"\n",
    "    text = text.replace(\" \",\"...\")\n",
    "    print(\"output: \", text)"
   ]
  },
  {
   "cell_type": "markdown",
   "id": "dc74a0a7",
   "metadata": {},
   "source": [
    "Run your program with python playback.py. Type This is CS50 and press Enter. Your program should output:<br>\n",
    "This...is...CS50    <br>\n",
    "Run your program with python playback.py. Type This is our week on functions and press Enter. Your program should output:<br>\n",
    "This...is...our...week...on...functions<br>\n",
    "Run your program with python playback.py. Type Lets implement a function called hello and press Enter. Your program should output<br>\n",
    "Lets...implement...a...function...called...hello<br>"
   ]
  },
  {
   "cell_type": "code",
   "execution_count": 20,
   "id": "6c99088e",
   "metadata": {},
   "outputs": [
    {
     "name": "stdout",
     "output_type": "stream",
     "text": [
      "input: This is CS50\n",
      "output:  This...is...CS50\n",
      "input: This is our week on functions\n",
      "output:  This...is...our...week...on...functions\n",
      "input: Let's implement a function called hello\n",
      "output:  Let's...implement...a...function...called...hello\n"
     ]
    }
   ],
   "source": [
    "playback_speed()\n",
    "playback_speed()\n",
    "playback_speed()"
   ]
  },
  {
   "cell_type": "markdown",
   "id": "1a1e265f",
   "metadata": {},
   "source": [
    "### Making Faces\n",
    "\n",
    "Before there were emoji, there were emoticons, whereby text like :) was a happy face and text like :( was a sad face. Nowadays, programs tend to convert emoticons to emoji automatically!\n",
    "\n",
    "In a file called faces.py, implement a function called convert that accepts a str as input and returns that same input with any :) converted to 🙂 (otherwise known as a slightly smiling face) and any :( converted to 🙁 (otherwise known as a slightly frowning face). All other text should be returned unchanged.\n",
    "\n",
    "Then, in that same file, implement a function called main that prompts the user for input, calls convert on that input, and prints the result. You’re welcome, but not required, to prompt the user explicitly, as by passing a str of your own as an argument to input. Be sure to call main at the bottom of your file."
   ]
  },
  {
   "cell_type": "code",
   "execution_count": 31,
   "id": "06e680b5",
   "metadata": {},
   "outputs": [],
   "source": [
    "def making_faces():\n",
    "    text = input(\"input: \")\n",
    "    text = text.replace(\":)\",\"🙂\")\n",
    "    text = text.replace(\":(\",\"🙁\")\n",
    "    print(\"output: \", text)"
   ]
  },
  {
   "cell_type": "markdown",
   "id": "954e4f50",
   "metadata": {},
   "source": [
    "Run your program with python faces.py. Type Hello :) and press Enter. Your program should output:<br>\n",
    "Hello 🙂<br>\n",
    "Run your program with python faces.py. Type Goodbye :( and press Enter. Your program should output:<br>\n",
    "Goodbye 🙁<br>\n",
    "Run your program with python faces.py. Type Hello :) Goodbye :( and press Enter. Your program should output<br>\n",
    "Hello 🙂 Goodbye 🙁"
   ]
  },
  {
   "cell_type": "code",
   "execution_count": 33,
   "id": "09e02f4f",
   "metadata": {
    "scrolled": true
   },
   "outputs": [
    {
     "name": "stdout",
     "output_type": "stream",
     "text": [
      "input: Hello :)\n",
      "output:  Hello 🙂\n",
      "input:  Goodbye :(\n",
      "output:   Goodbye 🙁\n",
      "input: Hello :) Goodbye :(\n",
      "output:  Hello 🙂 Goodbye 🙁\n"
     ]
    }
   ],
   "source": [
    "making_faces()\n",
    "making_faces()\n",
    "making_faces()"
   ]
  },
  {
   "cell_type": "markdown",
   "id": "2b023b4e",
   "metadata": {},
   "source": [
    "### Einstein\n",
    "\n",
    "Even if you haven’t studied physics (recently or ever!), you might have heard that , wherein  represents energy (measured in Joules),  represents mass (measured in kilograms), and  represents the speed of light (measured approximately as 300000000 meters per second), per Albert Einstein et al. Essentially, the formula means that mass and energy are equivalent.\n",
    "\n",
    "In a file called einstein.py, implement a program in Python that prompts the user for mass as an integer (in kilograms) and then outputs the equivalent number of Joules as an integer. Assume that the user will input an integer."
   ]
  },
  {
   "cell_type": "code",
   "execution_count": 36,
   "id": "23374dbf",
   "metadata": {},
   "outputs": [],
   "source": [
    "def einstein():\n",
    "    text = input(\"input mass (kg): \")\n",
    "    \n",
    "    #convert to int\n",
    "    text = int(text)\n",
    "    \n",
    "    #convert to energt\n",
    "    c = 300000000\n",
    "    text = text*c*c\n",
    "    \n",
    "    print(\"output (joules) : \", text)"
   ]
  },
  {
   "cell_type": "markdown",
   "id": "09812a60",
   "metadata": {},
   "source": [
    "Run your program with python einstein.py. Type 1 and press Enter. Your program should output:<br>\n",
    "90000000000000000<br>\n",
    "Run your program with python einstein.py. Type 14 and press Enter. Your program should output:<br>\n",
    "1260000000000000000<br>\n",
    "Run your program with python einstein.py. Type 50 and press Enter. Your program should output:<br>\n",
    "4500000000000000000"
   ]
  },
  {
   "cell_type": "code",
   "execution_count": 39,
   "id": "8779050e",
   "metadata": {},
   "outputs": [
    {
     "name": "stdout",
     "output_type": "stream",
     "text": [
      "input mass (kg): 1\n",
      "output (joules):  90000000000000000\n",
      "input mass (kg): 14\n",
      "output (joules):  1260000000000000000\n",
      "input mass (kg): 50\n",
      "output (joules):  4500000000000000000\n"
     ]
    }
   ],
   "source": [
    "einstein()\n",
    "einstein()\n",
    "einstein()"
   ]
  },
  {
   "cell_type": "markdown",
   "id": "db4f2a32",
   "metadata": {},
   "source": [
    "### Tip Calculator\n",
    "\n",
    "In the United States, it’s customary to leave a tip for your server after dining in a restaurant, typically an amount equal to 15% or more of your meal’s cost. Not to worry, though, we’ve written a tip calculator for you, below!\n"
   ]
  },
  {
   "cell_type": "code",
   "execution_count": 53,
   "id": "2621bdb8",
   "metadata": {},
   "outputs": [],
   "source": [
    "def calculator():\n",
    "    dollars = dollars_to_float(input(\"How much was the meal? \"))\n",
    "    percent = percent_to_float(input(\"What percentage would you like to tip? \"))\n",
    "    tip = dollars * percent\n",
    "    print(f\"Leave ${tip:.2f}\")\n",
    "\n",
    "\n",
    "def dollars_to_float(d):\n",
    "    d = d.replace(\"$\",\"\")\n",
    "    return float(d)\n",
    "\n",
    "def percent_to_float(p):\n",
    "    p = p.replace(\"%\",\"\")\n",
    "    return float(p)/100"
   ]
  },
  {
   "cell_type": "markdown",
   "id": "1ad8fdbe",
   "metadata": {},
   "source": [
    "Run your program with python tip.py. Type 50.00 and press Enter. Then, type 15 and press Enter. Your program should output: <br>\n",
    "Leave 7.50 <br>\n",
    "Run your program with python tip.py. Type 100.00 and press Enter. Then, type 18 and press Enter. Your program should output:<br>\n",
    "Leave 18.00 <br>\n",
    "Run your program with python tip.py. Type  15.00 and press Enter. Then, type 25 and press Enter. Your program should output: <br>\n",
    "Leave 3.75"
   ]
  },
  {
   "cell_type": "code",
   "execution_count": 54,
   "id": "f38c10fc",
   "metadata": {
    "scrolled": true
   },
   "outputs": [
    {
     "name": "stdout",
     "output_type": "stream",
     "text": [
      "How much was the meal? $50\n",
      "What percentage would you like to tip? 15%\n",
      "Leave $7.50\n",
      "How much was the meal? 100\n",
      "What percentage would you like to tip? 18\n",
      "Leave $18.00\n",
      "How much was the meal? $15.00\n",
      "What percentage would you like to tip? 25%\n",
      "Leave $3.75\n"
     ]
    }
   ],
   "source": [
    "calculator()\n",
    "calculator()\n",
    "calculator()"
   ]
  },
  {
   "cell_type": "code",
   "execution_count": 1,
   "id": "8c0743b1",
   "metadata": {},
   "outputs": [],
   "source": [
    "#end of PS0"
   ]
  }
 ],
 "metadata": {
  "kernelspec": {
   "display_name": "Python 3 (ipykernel)",
   "language": "python",
   "name": "python3"
  },
  "language_info": {
   "codemirror_mode": {
    "name": "ipython",
    "version": 3
   },
   "file_extension": ".py",
   "mimetype": "text/x-python",
   "name": "python",
   "nbconvert_exporter": "python",
   "pygments_lexer": "ipython3",
   "version": "3.9.12"
  }
 },
 "nbformat": 4,
 "nbformat_minor": 5
}
